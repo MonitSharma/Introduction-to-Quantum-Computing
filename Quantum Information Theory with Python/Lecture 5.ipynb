{
 "cells": [
  {
   "cell_type": "code",
   "execution_count": null,
   "metadata": {},
   "outputs": [],
   "source": [
    "from INFPHY201 import *"
   ]
  },
  {
   "cell_type": "markdown",
   "metadata": {},
   "source": [
    "# Lecture 5: Generalized measurements and tomography\n",
    " (2020) \n",
    "\n",
    "Welcome to Lecture 5!<br>\n",
    "After this lecture you will be able to:\n",
    "1. Construct generalized measurements from a measurement procedure\n",
    "2. Simulate the tomography of a qubit\n",
    "\n",
    "\n",
    "---\n",
    "***Recap of Lecture 4:***\n",
    "_In Lecture 4 we generalized the description of a quantum state to include uncertainty, by generalizing the Born rule. We saw that density operators can describe both pure states (i.e. those that could be described also by a ket) and mixed states. We then used this new description to describe bipartite entanglement._\n",
    "\n",
    "---\n",
    "***Preview of Lecture 5:***\n",
    "_Today we will generalize the Born rule from the point of view of Measurements. This allows us to describe realistic (i.e. non-ideal) measurements. This model of quantum measurements is the most general one available also to quantum mechanics researchers. We will put it into practice by simulating quantum tomography (i.e. finding out the state of a system by repeated measurements)._\n",
    "\n",
    "---"
   ]
  },
  {
   "cell_type": "markdown",
   "metadata": {},
   "source": [
    "# 1. Probability operators\n",
    "\n",
    "Any quantum state can be measured, to gather information about it. In Lecture 2 we have seen _projective_ measurements, now we will see _generalized_ measurements. They are usually called POVMs (Positive Operator-Valued Measures) or POMs (Probability Operator Measures). I like the second acronym better, because it reminds us the meaning of the operators, but note that the first is far more popular.\n",
    "\n",
    "## 1.1 The idea\n",
    "The idea is pretty much the same as for projectors: a measurement is a process with a number of outcomes that occur probabilistically. The role of projectors was to represent the outcomes, and their expectation value was the probability of that outcome. It turns out that projectors are not the most general objects with this property, we can in fact generalize a set of projectors to a set of generic _probability operators_. The difference is simple, we simply drop one of the requirements that apply to projectors. Let's first review them:\n",
    "\n",
    "The projectors representing a measurement have the following 4 properties:\n",
    "1. They are Hermitian: $P = P^\\dagger$\n",
    "2. They are positive semidefinite (non-negative eigenvalues) $P\\geq 0$\n",
    "3. They are complete: $\\sum_iP_i=\\mathbb{1}$\n",
    "4. They are mutually orthogonal: $P_iP_j= \\delta_{ij}P_i$\n",
    "\n",
    "General probability operators share all of the above properties __except the last one__: they don't need to be orthogonal to each other. And this makes sense: measurment results could give us overlapping information."
   ]
  },
  {
   "cell_type": "markdown",
   "metadata": {},
   "source": [
    "#### ACTIVITY 1: POM example\n",
    "Write a measurement on a qubit that has 3 outcomes corresponding to $|0\\rangle\\langle0|$, $|+\\rangle\\langle +|$ and a \"third outcome\", and test it on random qubit states. <br>\n",
    "_HINT_: rescaled projectors such as $\\lambda|0\\rangle\\langle 0|$ are valid probability operators."
   ]
  },
  {
   "cell_type": "code",
   "execution_count": null,
   "metadata": {},
   "outputs": [],
   "source": []
  },
  {
   "cell_type": "markdown",
   "metadata": {},
   "source": [
    "#### DEBRIEFING\n",
    "Something that you will see often if you will continue studying quantum information is that in order to \"complete\" a POM, you'll write the final POM element as $\\pi_0 = \\mathbb{1} - \\pi_1 - \\pi_2 - \\dots$.<br> As long as $\\pi_0\\geq0$, this ensures the POM is complete and well-formed."
   ]
  },
  {
   "cell_type": "markdown",
   "metadata": {},
   "source": [
    "## 1.2 Generalized measurements via conditional probabilities\n",
    "\n",
    "Suppose we have a measurement device that is imperfect (this is pretty much always happening in real life). We want a description of quantum measurements that takes this fact into account. The probability that the real outcome is $r$, depends on the conditional probability of ideal outcomes $i$:\n",
    "\n",
    "\\begin{align}\n",
    "P(r) &= \\sum_iP(r|i)P(i)\\\\\n",
    "&= \\sum_iP(r|i)\\,\\langle i|\\rho|i\\rangle\\\\ &= \\sum_iP(r|i)\\,\\mathrm{Tr}(|i\\rangle\\langle i|\\rho)\\\\\n",
    "&= \\mathrm{Tr}(\\sum_iP(r|i)\\,|i\\rangle\\langle i|\\rho) = \\mathrm{Tr}(\\pi_r\\rho)\n",
    "\\end{align}\n"
   ]
  },
  {
   "cell_type": "markdown",
   "metadata": {},
   "source": [
    "Where we have defined $\\pi_r = \\sum_iP(r|i)\\,|i\\rangle\\langle i|$.\n",
    "\n",
    "Let's unpack what we have derived here, because this is the most general version of the Born rule, which:\n",
    "1. involves a generalized version $\\rho$ of the quantum state (to make space for preparation uncertainty)\n",
    "2. involves a generalized version of the measurement (to make space for imperfections and noise):\n",
    "3. The sum is _not_ over a probability distribution, because we are summing the _conditional_ index $i$.\n",
    "4. Completeness is automatically implied: $\\mathbb{1}=\\sum_r\\pi_r = \\sum_{ri}P(r|i)\\,|i\\rangle\\langle i| = \\sum_i|i\\rangle\\langle i|$.\n",
    "\n"
   ]
  },
  {
   "cell_type": "markdown",
   "metadata": {},
   "source": [
    "# 2. Hands-on Quantum Tomography\n",
    "\n",
    "Tomography is an extremely useful procedure in quantum physics, because it allows us to probe quantum systems (such as a quantum computer) and verify that things are as expected (or not).\n",
    "\n",
    "## 2.1 The idea\n",
    "The idea is as follows: suppose I have a machine that produces quantum systems following some fixed procedure. How can you understand what is the state of the systems? The answer is given by performing quantum tomography. There are highly optimized ways to perform tomography, for now we will be satisfied with a simpler procedure (i.e. non-adaptive).\n",
    "\n",
    "We will take a set of measurements that is \"tomographically complete\" (which is a fancy way of saying that the data that they produce is always enough to reconstruct any state, given enough measurements) and we will keep using those. So let's apply it to a source of qubits."
   ]
  },
  {
   "cell_type": "markdown",
   "metadata": {},
   "source": [
    "## 2.2 Tomographically complete qubit measurement\n",
    "\n",
    "First of all, let's see that a projective measurement cannot be tomographically complete. For example, a measurement in the computational basis will never be able to distinguish $|+\\rangle$ from $|-\\rangle$: they both yield 0 or 1 with 50% probability and the states $|+\\rangle$ and $|-\\rangle$ will not look any different from each other. We need to be more clever than that. Our choice will be a 6-outcome measurement with the following six probability operators:\n",
    "\n",
    "1. $\\pi_0 = \\frac13|0\\rangle\\langle 0 |$\n",
    "2. $\\pi_1 = \\frac13|1\\rangle\\langle 1 |$\n",
    "3. $\\pi_+ = \\frac13|+\\rangle\\langle + |$\n",
    "4. $\\pi_- = \\frac13|-\\rangle\\langle - |$\n",
    "5. $\\pi_L = \\frac13|L\\rangle\\langle L |$\n",
    "6. $\\pi_R = \\frac13|R\\rangle\\langle R |$\n",
    "\n",
    "You should verify that it is indeed a POM, as all three conditions are satisfied. It is not a projective measurement because it does not satisfy the mutual orthogonality property."
   ]
  },
  {
   "cell_type": "markdown",
   "metadata": {},
   "source": [
    "#### ACTIVITY 2: matrix form of a POM\n",
    "Write all six POM elements in matrix form"
   ]
  },
  {
   "cell_type": "code",
   "execution_count": null,
   "metadata": {},
   "outputs": [],
   "source": []
  },
  {
   "cell_type": "markdown",
   "metadata": {},
   "source": [
    "#### ACTIVITY 3: from POM to probabilities\n",
    "\n",
    "Pick a random qubit state (pure or mixed, up to you) and produce the probability distribution given by the POM that we defined above. "
   ]
  },
  {
   "cell_type": "code",
   "execution_count": null,
   "metadata": {},
   "outputs": [],
   "source": []
  },
  {
   "cell_type": "markdown",
   "metadata": {},
   "source": [
    "#### ACTIVITY 4: from probabilities to quantum state (tomographical reconstruction)\n",
    "\n",
    "Pick a random probability distribution with 6 elements (i.e. 6 positive numbers adding up to 1) and compute the quantum state that would have given those probabilities. <br>\n",
    "HINT: there are multiple (inequivalent!) ways to do this. One of the easiest ones is to consider pairs of orthogonal POM elements ($\\pi_{0/1}$, $\\pi_{+/-}$ and $\\pi_{L/R}$) and reconstruct the state in three separate stages."
   ]
  },
  {
   "cell_type": "code",
   "execution_count": null,
   "metadata": {},
   "outputs": [],
   "source": []
  }
 ],
 "metadata": {
  "kernelspec": {
   "display_name": "Python 3",
   "language": "python",
   "name": "python3"
  },
  "language_info": {
   "codemirror_mode": {
    "name": "ipython",
    "version": 3
   },
   "file_extension": ".py",
   "mimetype": "text/x-python",
   "name": "python",
   "nbconvert_exporter": "python",
   "pygments_lexer": "ipython3",
   "version": "3.8.2"
  }
 },
 "nbformat": 4,
 "nbformat_minor": 4
}
