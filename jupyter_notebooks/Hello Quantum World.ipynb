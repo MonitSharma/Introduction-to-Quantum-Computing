{
 "cells": [
  {
   "cell_type": "markdown",
   "metadata": {},
   "source": [
    "## First Steps in QISKIT\n",
    "\n",
    "\n",
    "\n",
    "\n",
    "<li> Please Visit   https://quantum-computing.ibm.com/   for getting a free account and access the IBM Quantum Computer.\n",
    "    <li>Pleae Visit   https://cs.uwaterloo.ca/~watrous/QC-notes/QC-notes.pdf   for lecture notes on Quantum Computation.\n",
    "        <li> Please Visit   https://qiskit.org/textbook/preface.html   to learn Quantum Computation using Qiskit"
   ]
  },
  {
   "cell_type": "code",
   "execution_count": 1,
   "metadata": {},
   "outputs": [],
   "source": [
    "%matplotlib inline\n",
    "\n",
    "from qiskit import *\n",
    "from qiskit.visualization import *\n",
    "from qiskit.tools.monitor import *"
   ]
  },
  {
   "cell_type": "code",
   "execution_count": 3,
   "metadata": {},
   "outputs": [
    {
     "data": {
      "image/png": "[encoded data removed]",
      "text/plain": [
       "<Figure size 193.726x144.48 with 1 Axes>"
      ]
     },
     "execution_count": 3,
     "metadata": {},
     "output_type": "execute_result"
    }
   ],
   "source": [
    "circ = QuantumCircuit(1,1)\n",
    "circ.h(0)\n",
    "circ.measure(range(1),range(1))\n",
    "\n",
    "circ.draw(output='mpl')"
   ]
  },
  {
   "cell_type": "markdown",
   "metadata": {},
   "source": [
    "### Running On Simulators"
   ]
  },
  {
   "cell_type": "code",
   "execution_count": 4,
   "metadata": {},
   "outputs": [
    {
     "name": "stdout",
     "output_type": "stream",
     "text": [
      "{'0': 472, '1': 528}\n"
     ]
    },
    {
     "data": {
      "image/png": "[encoded data removed]",
      "text/plain": [
       "<Figure size 504x360 with 1 Axes>"
      ]
     },
     "execution_count": 4,
     "metadata": {},
     "output_type": "execute_result"
    }
   ],
   "source": [
    "backend_sim = Aer.get_backend('qasm_simulator')\n",
    "\n",
    "job_sim = execute(circ, backend_sim, shots = 1000)\n",
    "\n",
    "result_sim = job_sim.result()\n",
    "\n",
    "counts = result_sim.get_counts(circ)\n",
    "\n",
    "print(counts)\n",
    "plot_histogram(counts)"
   ]
  },
  {
   "cell_type": "markdown",
   "metadata": {},
   "source": [
    "Compute the Final State of The Vector, create a circuit with no measures"
   ]
  },
  {
   "cell_type": "code",
   "execution_count": 5,
   "metadata": {},
   "outputs": [
    {
     "name": "stdout",
     "output_type": "stream",
     "text": [
      "[0.70710678+0.j 0.70710678+0.j]\n"
     ]
    }
   ],
   "source": [
    "circ2 = QuantumCircuit(1,1)  #circuit with 1 qubit and 1 classical bit\n",
    "circ2.h(0) #applying the Hadmaard gate\n",
    "\n",
    "backend = Aer.get_backend('statevector_simulator')  #The backend is where it's running\n",
    "\n",
    "job = execute(circ2,backend)\n",
    "\n",
    "result = job.result()\n",
    "\n",
    "\n",
    "outputstate = result.get_statevector(circ2)\n",
    "print(outputstate)"
   ]
  },
  {
   "cell_type": "markdown",
   "metadata": {},
   "source": [
    "Get The Unitary Matrix"
   ]
  },
  {
   "cell_type": "code",
   "execution_count": 6,
   "metadata": {},
   "outputs": [
    {
     "name": "stdout",
     "output_type": "stream",
     "text": [
      "[[ 0.70710678+0.00000000e+00j  0.70710678-8.65956056e-17j]\n",
      " [ 0.70710678+0.00000000e+00j -0.70710678+8.65956056e-17j]]\n"
     ]
    }
   ],
   "source": [
    "backend = Aer.get_backend('unitary_simulator')\n",
    "job = execute(circ2,backend)\n",
    "\n",
    "result = job.result()\n",
    "\n",
    "unitary = result.get_unitary()\n",
    "print(unitary)"
   ]
  },
  {
   "cell_type": "markdown",
   "metadata": {},
   "source": [
    "Use the Quantum Computers\n"
   ]
  },
  {
   "cell_type": "code",
   "execution_count": 7,
   "metadata": {},
   "outputs": [],
   "source": [
    "token = 'Enter Your Token Number Here'"
   ]
  },
  {
   "cell_type": "code",
   "execution_count": 8,
   "metadata": {},
   "outputs": [
    {
     "name": "stderr",
     "output_type": "stream",
     "text": [
      "configrc.store_credentials:WARNING:2020-12-09 19:27:38,480: Credentials already present. Set overwrite=True to overwrite.\n"
     ]
    }
   ],
   "source": [
    "provider = IBMQ.save_account(token)"
   ]
  },
  {
   "cell_type": "code",
   "execution_count": 9,
   "metadata": {},
   "outputs": [
    {
     "name": "stderr",
     "output_type": "stream",
     "text": [
      "C:\\Users\\Monit Sharma\\Anaconda3\\lib\\site-packages\\qiskit\\providers\\ibmq\\ibmqfactory.py:192: UserWarning: Timestamps in IBMQ backend properties, jobs, and job results are all now in local time instead of UTC.\n",
      "  warnings.warn('Timestamps in IBMQ backend properties, jobs, and job results '\n"
     ]
    },
    {
     "name": "stdout",
     "output_type": "stream",
     "text": [
      "{'backend_name': 'ibmq_qasm_simulator', 'backend_version': '0.1.547', 'operational': True, 'pending_jobs': 0, 'status_msg': 'active'}\n",
      "{'backend_name': 'ibmqx2', 'backend_version': '2.2.5', 'operational': True, 'pending_jobs': 324, 'status_msg': 'active'}\n",
      "{'backend_name': 'ibmq_16_melbourne', 'backend_version': '2.3.3', 'operational': True, 'pending_jobs': 3656, 'status_msg': 'active'}\n",
      "{'backend_name': 'ibmq_vigo', 'backend_version': '1.3.3', 'operational': True, 'pending_jobs': 108, 'status_msg': 'active'}\n",
      "{'backend_name': 'ibmq_ourense', 'backend_version': '1.3.3', 'operational': True, 'pending_jobs': 526, 'status_msg': 'active'}\n",
      "{'backend_name': 'ibmq_valencia', 'backend_version': '1.4.3', 'operational': True, 'pending_jobs': 7, 'status_msg': 'active'}\n",
      "{'backend_name': 'ibmq_armonk', 'backend_version': '1.1.3', 'operational': True, 'pending_jobs': 32, 'status_msg': 'active'}\n",
      "{'backend_name': 'ibmq_athens', 'backend_version': '1.3.3', 'operational': True, 'pending_jobs': 15, 'status_msg': 'active'}\n",
      "{'backend_name': 'ibmq_santiago', 'backend_version': '1.3.0', 'operational': True, 'pending_jobs': 13, 'status_msg': 'active'}\n"
     ]
    }
   ],
   "source": [
    "\n",
    "provider = IBMQ.load_account()\n",
    "provider.backends()\n",
    "\n",
    "for b in provider.backends():\n",
    "    print(b.status().to_dict())"
   ]
  },
  {
   "cell_type": "code",
   "execution_count": 10,
   "metadata": {},
   "outputs": [
    {
     "name": "stdout",
     "output_type": "stream",
     "text": [
      "{'0': 4120, '1': 4072}\n"
     ]
    },
    {
     "data": {
      "image/png": "[encoded data removed]",
      "text/plain": [
       "<Figure size 504x360 with 1 Axes>"
      ]
     },
     "execution_count": 10,
     "metadata": {},
     "output_type": "execute_result"
    }
   ],
   "source": [
    "backend_sim = provider.get_backend('ibmq_qasm_simulator')\n",
    "\n",
    "job_sim = execute(circ, backend_sim, shots = 8192)\n",
    "\n",
    "result_sim = job_sim.result()\n",
    "\n",
    "counts = result_sim.get_counts(circ)\n",
    "\n",
    "print(counts)\n",
    "plot_histogram(counts)"
   ]
  },
  {
   "cell_type": "markdown",
   "metadata": {},
   "source": [
    "### Running on Actual Quantum Computer"
   ]
  },
  {
   "cell_type": "code",
   "execution_count": 11,
   "metadata": {},
   "outputs": [
    {
     "name": "stdout",
     "output_type": "stream",
     "text": [
      "{'0': 4126, '1': 4066}\n"
     ]
    },
    {
     "data": {
      "image/png": "[encoded data removed]",
      "text/plain": [
       "<Figure size 504x360 with 1 Axes>"
      ]
     },
     "execution_count": 11,
     "metadata": {},
     "output_type": "execute_result"
    }
   ],
   "source": [
    "backend_sim = provider.get_backend('ibmq_valencia')\n",
    "\n",
    "job_sim = execute(circ, backend_sim, shots = 8192)\n",
    "\n",
    "result_sim = job_sim.result()\n",
    "\n",
    "counts = result_sim.get_counts(circ)\n",
    "\n",
    "print(counts)\n",
    "plot_histogram(counts)"
   ]
  },
  {
   "cell_type": "code",
   "execution_count": 12,
   "metadata": {},
   "outputs": [
    {
     "name": "stdout",
     "output_type": "stream",
     "text": [
      "Job Status: job has successfully run\n"
     ]
    }
   ],
   "source": [
    "backend = provider.get_backend('ibmq_armonk')\n",
    "\n",
    "job_exp = execute(circ, backend = backend)\n",
    "job_monitor(job_exp) ## How many jobs are before it and how much is it pending"
   ]
  },
  {
   "cell_type": "code",
   "execution_count": 13,
   "metadata": {},
   "outputs": [
    {
     "data": {
      "image/png": "[encoded data removed]",
      "text/plain": [
       "<Figure size 504x360 with 1 Axes>"
      ]
     },
     "execution_count": 13,
     "metadata": {},
     "output_type": "execute_result"
    }
   ],
   "source": [
    "result_exp = job_exp.result()\n",
    "counts_exp = result_exp.get_counts(circ)\n",
    "plot_histogram([counts_exp,counts], legend=['Device', 'Simulator'])"
   ]
  },
  {
   "cell_type": "code",
   "execution_count": 14,
   "metadata": {},
   "outputs": [],
   "source": [
    "from qiskit import QuantumCircuit, execute, Aer\n",
    "from qiskit.visualization import plot_histogram"
   ]
  },
  {
   "cell_type": "markdown",
   "metadata": {},
   "source": [
    "## BB84 Algorithm"
   ]
  },
  {
   "cell_type": "markdown",
   "metadata": {},
   "source": [
    "<li>Applying the same Hadmard gate and measuring the qubit\n",
    "<li>circ_random is the circuit drawn below"
   ]
  },
  {
   "cell_type": "code",
   "execution_count": 15,
   "metadata": {},
   "outputs": [
    {
     "data": {
      "image/png": "[encoded data removed]",
      "text/plain": [
       "<Figure size 193.726x144.48 with 1 Axes>"
      ]
     },
     "execution_count": 15,
     "metadata": {},
     "output_type": "execute_result"
    }
   ],
   "source": [
    "%matplotlib inline\n",
    "\n",
    "from qiskit import *\n",
    "from qiskit.visualization import *\n",
    "from qiskit.tools.monitor import *\n",
    "\n",
    "circ_random = QuantumCircuit(1,1) # We need qubit and one classical bit\n",
    "\n",
    "circ_random.h(0) #We apply the H gate\n",
    "\n",
    "circ_random.measure(range(1),range(1)) # Measure\n",
    "\n",
    "circ_random.draw(output='mpl')"
   ]
  },
  {
   "cell_type": "markdown",
   "metadata": {},
   "source": [
    "#### job Function\n",
    "<li> The work is going to be on the Qasm Simulator\n",
    "    <li> The Job is to execute the circ_random(the one drawn above with the H gate) , on the qasm simulator\n",
    "        <li> run it around 100 times\n",
    "            <li> And measure the result and store it in an array\n",
    "                <li> This is what the \"job\" function does.\n"
   ]
  },
  {
   "cell_type": "markdown",
   "metadata": {},
   "source": [
    "#### bits_alice Function\n",
    "\n",
    "<li> For the value that we obtain after measuring the circ_random 100 times, we store them in variable \"q\"\n",
    "    <li> Convert them to an integer value whilst applying int(q)\n",
    "        <li> Store them all in the array \"bits_alice\"\n",
    "            <li> Print the array"
   ]
  },
  {
   "cell_type": "code",
   "execution_count": 16,
   "metadata": {},
   "outputs": [
    {
     "name": "stdout",
     "output_type": "stream",
     "text": [
      "[0, 1, 1, 0, 1, 1, 1, 1, 0, 1, 0, 0, 1, 0, 0, 0, 1, 1, 0, 1, 1, 1, 0, 1, 1, 0, 1, 0, 1, 1, 0, 0, 1, 0, 0, 0, 1, 1, 1, 0, 0, 1, 0, 0, 0, 1, 1, 0, 1, 1, 0, 0, 1, 0, 1, 1, 1, 1, 0, 0, 1, 0, 1, 1, 1, 0, 1, 0, 1, 1, 0, 0, 0, 1, 0, 0, 1, 1, 0, 0, 0, 0, 0, 1, 1, 1, 1, 0, 0, 1, 1, 0, 0, 0, 1, 1, 0, 0, 0, 0]\n"
     ]
    }
   ],
   "source": [
    "n = 100 # Number of bits that we are going to use\n",
    "\n",
    "# Alice generates n random bits (some of these bits will form the key)\n",
    "\n",
    "backend = Aer.get_backend('qasm_simulator')\n",
    "job = execute(circ_random, backend, shots=n, memory = True) # We set the 'memory' parameter to true to be able to access the string of results\n",
    "bits_alice = [int(q) for q in job.result().get_memory()] \n",
    "print(bits_alice)"
   ]
  },
  {
   "cell_type": "markdown",
   "metadata": {},
   "source": [
    "<li>Running the same code again \n",
    "    <li> But just naming and storing them in a different array names \"basis_alice\"\n",
    "        <li> They Provide the basis in which the measurement is being made\n",
    "            "
   ]
  },
  {
   "cell_type": "code",
   "execution_count": 17,
   "metadata": {},
   "outputs": [
    {
     "name": "stdout",
     "output_type": "stream",
     "text": [
      "[0, 1, 0, 0, 1, 0, 1, 0, 0, 0, 0, 1, 0, 0, 0, 0, 1, 1, 1, 0, 1, 0, 1, 1, 0, 1, 0, 0, 1, 0, 0, 0, 1, 0, 1, 0, 1, 1, 0, 0, 0, 1, 0, 0, 0, 1, 0, 1, 1, 0, 0, 0, 0, 0, 0, 1, 1, 1, 0, 0, 0, 1, 1, 0, 1, 0, 0, 1, 1, 1, 0, 1, 1, 0, 1, 0, 1, 1, 0, 0, 1, 0, 1, 0, 0, 1, 0, 1, 0, 0, 1, 1, 0, 0, 0, 0, 0, 1, 1, 1]\n"
     ]
    }
   ],
   "source": [
    "# Alice randomly chooses the bases in which she is going to measure\n",
    "\n",
    "job = execute(circ_random, backend, shots=n, memory = True)\n",
    "basis_alice = [int(q) for q in job.result().get_memory()] \n",
    "print(basis_alice)"
   ]
  },
  {
   "cell_type": "markdown",
   "metadata": {},
   "source": [
    "<li> Running the same code for bob\n",
    "    <li> Bob does random measurement on the bits sent by Alice on the basis \"basis_bob\""
   ]
  },
  {
   "cell_type": "code",
   "execution_count": 21,
   "metadata": {},
   "outputs": [
    {
     "name": "stdout",
     "output_type": "stream",
     "text": [
      "[0, 0, 1, 1, 1, 0, 0, 1, 0, 1, 1, 0, 0, 1, 0, 0, 0, 1, 1, 0, 0, 1, 1, 1, 1, 1, 1, 0, 0, 1, 0, 0, 1, 1, 0, 0, 1, 1, 1, 1, 0, 0, 0, 1, 1, 1, 0, 1, 0, 1, 1, 0, 0, 1, 1, 1, 0, 0, 0, 1, 0, 0, 0, 0, 0, 1, 0, 1, 0, 1, 1, 1, 0, 1, 1, 0, 0, 0, 0, 1, 1, 0, 0, 0, 0, 1, 1, 0, 1, 1, 1, 1, 0, 1, 0, 1, 1, 1, 0, 1]\n"
     ]
    }
   ],
   "source": [
    "# Bob also chooses at random the bases in which he will measure\n",
    "\n",
    "job = execute(circ_random, backend, shots=n, memory = True)\n",
    "basis_bob = [int(q) for q in job.result().get_memory()] \n",
    "print(basis_bob)"
   ]
  },
  {
   "cell_type": "markdown",
   "metadata": {},
   "source": [
    "<li> Defined an empty array \"bits_bob\"\n",
    "    <li> It will have the bits that bob measured \n",
    "        <li> A for loop which will be executed n(100) times\n",
    "            <li> It will send on the empty circuit first, with no gates and one qubit and one classical bit\n",
    "                <li> For n times this loop will execute and each bit will be applied on the NOT gate and each basis on the Haadmard gate\n",
    "                    <li> Same for the basis of Bob\n",
    "                        <li> From that we'll measure the outcomes and will get the bits of Bob\n",
    "                            <li> We'll print the Bits of Bob"
   ]
  },
  {
   "cell_type": "code",
   "execution_count": 19,
   "metadata": {},
   "outputs": [
    {
     "name": "stdout",
     "output_type": "stream",
     "text": [
      "[0, 1, 0, 1, 0, 1, 1, 1, 0, 1, 0, 0, 1, 0, 0, 0, 0, 1, 0, 0, 1, 1, 0, 0, 0, 1, 1, 0, 1, 1, 1, 0, 1, 1, 0, 1, 1, 0, 1, 0, 0, 0, 0, 0, 1, 1, 1, 0, 0, 1, 0, 0, 1, 0, 1, 1, 1, 1, 1, 0, 1, 0, 0, 1, 1, 0, 1, 0, 1, 1, 0, 0, 0, 1, 0, 0, 0, 1, 0, 0, 0, 0, 1, 1, 1, 1, 1, 0, 1, 1, 1, 0, 0, 0, 1, 0, 0, 0, 0, 0]\n"
     ]
    }
   ],
   "source": [
    "# Now, Alice codes each bit of her initial string as a qubit and sends it to Bob, who measures in his basis\n",
    "\n",
    "bits_bob = []\n",
    "\n",
    "for i in range(n):\n",
    "    circ_send = QuantumCircuit(1,1)\n",
    "    if bits_alice[i]:  # Alice has to send '1'\n",
    "        circ_send.x(0)\n",
    "    if basis_alice[i]: # Alice codes in basis |+>, |->\n",
    "        circ_send.h(0)\n",
    "        \n",
    "    # Alice sends the qubit to Bob and he measures\n",
    "    \n",
    "    if basis_bob[i]: # Bob has to measure in basis |+>, |->\n",
    "        circ_send.h(0) \n",
    "    \n",
    "    circ_send.measure(0,0)\n",
    "    \n",
    "    job = execute(circ_send, backend, shots = 1, memory = True)\n",
    "    bits_bob.append(int(job.result().get_memory()[0]))\n",
    "    \n",
    "print(bits_bob)\n",
    "    "
   ]
  },
  {
   "cell_type": "markdown",
   "metadata": {},
   "source": [
    "<li> Now as Alice has shared her set of basis used, we'll check how many bits were correctly determined by Bob\n",
    "    <li> Bob is more or less 50% correct in getting the Bits"
   ]
  },
  {
   "cell_type": "code",
   "execution_count": 20,
   "metadata": {},
   "outputs": [
    {
     "name": "stdout",
     "output_type": "stream",
     "text": [
      "Key length 52\n",
      "[1, 1, 1, 1, 0, 1, 0, 0, 0, 1, 0, 1, 1, 0, 1, 1, 0, 0, 0, 0, 1, 1, 0, 0, 0, 1, 1, 1, 0, 1, 1, 0, 1, 0, 1, 0, 0, 0, 1, 0, 0, 0, 1, 1, 0, 1, 0, 1, 0, 0, 0, 0]\n"
     ]
    }
   ],
   "source": [
    "# Bob tells Alice the basis he used for his measurements \n",
    "# Alice confirms which of the basis are correct\n",
    "\n",
    "key = []\n",
    "\n",
    "for i in range(n):\n",
    "    if basis_alice[i] == basis_bob[i]:\n",
    "        key.append(bits_bob[i])\n",
    "        \n",
    "print(\"Key length\", len(key))\n",
    "print(key)"
   ]
  }
 ],
 "metadata": {
  "kernelspec": {
   "display_name": "Python 3",
   "language": "python",
   "name": "python3"
  },
  "language_info": {
   "codemirror_mode": {
    "name": "ipython",
    "version": 3
   },
   "file_extension": ".py",
   "mimetype": "text/x-python",
   "name": "python",
   "nbconvert_exporter": "python",
   "pygments_lexer": "ipython3",
   "version": "3.8.3"
  }
 },
 "nbformat": 4,
 "nbformat_minor": 4
}
