{
 "cells": [
  {
   "cell_type": "markdown",
   "metadata": {},
   "source": [
    "# Hello Entangled World"
   ]
  },
  {
   "cell_type": "markdown",
   "metadata": {},
   "source": [
    "### Importing all the Necessary qiskit libraries"
   ]
  },
  {
   "cell_type": "code",
   "execution_count": 1,
   "metadata": {},
   "outputs": [],
   "source": [
    "%matplotlib inline\n",
    "\n",
    "from qiskit import *\n",
    "from qiskit.visualization import *\n",
    "from qiskit.tools.monitor import *"
   ]
  },
  {
   "cell_type": "code",
   "execution_count": 2,
   "metadata": {},
   "outputs": [
    {
     "data": {
      "image/png": "[encoded data removed]",
      "text/plain": [
       "<Figure size 327.252x204.68 with 1 Axes>"
      ]
     },
     "execution_count": 2,
     "metadata": {},
     "output_type": "execute_result"
    }
   ],
   "source": [
    "circ_bell = QuantumCircuit(2,2)\n",
    "\n",
    "#we have a two Qubit and two classical bit circuit\n",
    "\n",
    "circ_bell.h(0)\n",
    "\n",
    "#then we apply the haadmard gate on the first qubit\n",
    "\n",
    "circ_bell.cx(0,1)\n",
    "\n",
    "#now we apply the controlled not gate which have control on the\n",
    "#first qubit and target on the second qubit\n",
    "\n",
    "circ_bell.measure(range(2),range(2))\n",
    "\n",
    "#here we do the measurement on both the states\n",
    "\n",
    "\n",
    "circ_bell.draw(output='mpl')\n",
    "\n",
    "#we draw the circuit"
   ]
  },
  {
   "cell_type": "markdown",
   "metadata": {},
   "source": [
    "## Executing on the qasm simulator"
   ]
  },
  {
   "cell_type": "code",
   "execution_count": 3,
   "metadata": {},
   "outputs": [],
   "source": [
    "backend = Aer.get_backend('qasm_simulator')\n",
    "job = execute(circ_bell, backend, shots = 1024)\n",
    "\n",
    "\n",
    "counts = job.result().get_counts()"
   ]
  },
  {
   "cell_type": "code",
   "execution_count": 4,
   "metadata": {},
   "outputs": [
    {
     "name": "stdout",
     "output_type": "stream",
     "text": [
      "{'00': 534, '11': 490}\n"
     ]
    }
   ],
   "source": [
    "print(counts)"
   ]
  },
  {
   "cell_type": "markdown",
   "metadata": {},
   "source": [
    "It tells us out of the total number of shots we sent, how many were the |00> states and how many were the |11> state"
   ]
  },
  {
   "cell_type": "markdown",
   "metadata": {},
   "source": [
    "## Finding the State Vector Amplitude"
   ]
  },
  {
   "cell_type": "code",
   "execution_count": 5,
   "metadata": {},
   "outputs": [
    {
     "name": "stdout",
     "output_type": "stream",
     "text": [
      "Amplitude of 00 = (0.7071067811865476+0j)\n",
      "Amplitude of 01 = 0j\n",
      "Amplitude of 10 = 0j\n",
      "Amplitude of 11 = (0.7071067811865476+0j)\n",
      "\n"
     ]
    }
   ],
   "source": [
    "circ_bell2 = QuantumCircuit(2)\n",
    "circ_bell2.h(0)\n",
    "circ_bell2.cx(0,1)\n",
    "\n",
    "\n",
    "\n",
    "backend = Aer.get_backend('statevector_simulator')\n",
    "job = execute(circ_bell2, backend)\n",
    "\n",
    "\n",
    "state = job.result().get_statevector()\n",
    "\n",
    "\n",
    "\n",
    "for i in range(4):\n",
    "    s = format(i,\"b\")\n",
    "    #converting to binary\n",
    "    s = (2-len(s))*\"0\"+s\n",
    "    #prepend zeroes\n",
    "    \n",
    "    print(\"Amplitude of\",s,\"=\",state[i])\n",
    "    \n",
    "print()"
   ]
  },
  {
   "cell_type": "markdown",
   "metadata": {},
   "source": [
    "## Finding the Probabilities"
   ]
  },
  {
   "cell_type": "code",
   "execution_count": 6,
   "metadata": {},
   "outputs": [
    {
     "name": "stdout",
     "output_type": "stream",
     "text": [
      "Probability of 00 = 0.5000000000000001\n",
      "Probability of 01 = 0.0\n",
      "Probability of 10 = 0.0\n",
      "Probability of 11 = 0.5000000000000001\n"
     ]
    }
   ],
   "source": [
    "for i in range(4):\n",
    "    s = format(i,\"b\")\n",
    "    #converting to binary\n",
    "    s = (2-len(s))*\"0\"+s\n",
    "    #prepend zeroes\n",
    "    \n",
    "    print(\"Probability of\",s,\"=\",abs(state[i])**2)"
   ]
  },
  {
   "cell_type": "markdown",
   "metadata": {},
   "source": [
    "### Details about all the Devices available to us"
   ]
  },
  {
   "cell_type": "code",
   "execution_count": 7,
   "metadata": {},
   "outputs": [
    {
     "name": "stderr",
     "output_type": "stream",
     "text": [
      "C:\\Users\\Monit Sharma\\Documents\\Anaconda\\lib\\site-packages\\qiskit\\providers\\ibmq\\ibmqfactory.py:192: UserWarning: Timestamps in IBMQ backend properties, jobs, and job results are all now in local time instead of UTC.\n",
      "  warnings.warn('Timestamps in IBMQ backend properties, jobs, and job results '\n"
     ]
    },
    {
     "name": "stdout",
     "output_type": "stream",
     "text": [
      "ibmq_santiago                ibmq_athens                  ibmq_armonk\n",
      "-------------                -----------                  -----------\n",
      "Num. Qubits:  5              Num. Qubits:  5              Num. Qubits:  1\n",
      "Pending Jobs: 25             Pending Jobs: 32             Pending Jobs: 22\n",
      "Least busy:   False          Least busy:   False          Least busy:   False\n",
      "Operational:  True           Operational:  True           Operational:  True\n",
      "Avg. T1:      107.7          Avg. T1:      79.0           Avg. T1:      184.7\n",
      "Avg. T2:      89.9           Avg. T2:      95.6           Avg. T2:      195.4\n",
      "\n",
      "\n",
      "\n",
      "ibmq_valencia               ibmq_ourense                 ibmq_vigo\n",
      "-------------               ------------                 ---------\n",
      "Num. Qubits:  5             Num. Qubits:  5              Num. Qubits:  5\n",
      "Pending Jobs: 0             Pending Jobs: 1290           Pending Jobs: 533\n",
      "Least busy:   True          Least busy:   False          Least busy:   False\n",
      "Operational:  True          Operational:  True           Operational:  True\n",
      "Avg. T1:      96.2          Avg. T1:      94.5           Avg. T1:      113.0\n",
      "Avg. T2:      54.4          Avg. T2:      68.1           Avg. T2:      83.7\n",
      "\n",
      "\n",
      "\n",
      "ibmq_16_melbourne            ibmqx2\n",
      "-----------------            ------\n",
      "Num. Qubits:  15             Num. Qubits:  5\n",
      "Pending Jobs: 3222           Pending Jobs: 30\n",
      "Least busy:   False          Least busy:   False\n",
      "Operational:  True           Operational:  True\n",
      "Avg. T1:      52.0           Avg. T1:      60.2\n",
      "Avg. T2:      57.1           Avg. T2:      31.6\n",
      "\n",
      "\n",
      "\n"
     ]
    }
   ],
   "source": [
    "provider = IBMQ.load_account()\n",
    "backend_overview()"
   ]
  },
  {
   "cell_type": "code",
   "execution_count": 8,
   "metadata": {},
   "outputs": [
    {
     "name": "stdout",
     "output_type": "stream",
     "text": [
      "ibmq_armonk\n",
      "===========\n",
      "Configuration\n",
      "-------------\n",
      "    n_qubits: 1\n",
      "    operational: True\n",
      "    status_msg: active\n",
      "    pending_jobs: 23\n",
      "    backend_version: 1.1.3\n",
      "    basis_gates: ['id', 'u1', 'u2', 'u3']\n",
      "    local: False\n",
      "    simulator: False\n",
      "    dynamic_reprate_enabled: False\n",
      "    meas_kernels: ['hw_boxcar']\n",
      "    sample_name: SPARROW\n",
      "    discriminators: ['linear_discriminator', 'quadratic_discriminator']\n",
      "    backend_name: ibmq_armonk\n",
      "    max_shots: 8192\n",
      "    url: None\n",
      "    n_uchannels: 0\n",
      "    supported_instructions: ['setf', 'measure', 'x', 'cx', 'id', 'u2', 'shiftf', 'acquire', 'u1', 'delay', 'u3', 'play']\n",
      "    meas_lo_range: [[6.493427855, 7.493427855]]\n",
      "    n_registers: 1\n",
      "    conditional_latency: []\n",
      "    quantum_volume: None\n",
      "    meas_map: [[0]]\n",
      "    coupling_map: None\n",
      "    rep_times: [1000.0]\n",
      "    conditional: False\n",
      "    qubit_channel_mapping: [['m0', 'd0']]\n",
      "    u_channel_lo: []\n",
      "    parametric_pulses: ['gaussian', 'gaussian_square', 'drag', 'constant']\n",
      "    qubit_lo_range: [[4.474446855948306, 5.474446855948306]]\n",
      "    dtm: 0.2222222222222222\n",
      "    description: 1 qubit device\n",
      "    dt: 0.2222222222222222\n",
      "    open_pulse: True\n",
      "    allow_q_object: True\n",
      "    allow_object_storage: True\n",
      "    acquisition_latency: []\n",
      "    credits_required: True\n",
      "    uchannels_enabled: True\n",
      "    hamiltonian: {'description': 'Qubits are modeled as Duffing oscillators. In this case, the system includes higher energy states, i.e. not just |0> and |1>. The Pauli operators are generalized via the following set of transformations:\\n\\n$(\\\\mathbb{I}-\\\\sigma_{i}^z)/2 \\\\rightarrow O_i \\\\equiv b^\\\\dagger_{i} b_{i}$,\\n\\n$\\\\sigma_{+} \\\\rightarrow b^\\\\dagger$,\\n\\n$\\\\sigma_{-} \\\\rightarrow b$,\\n\\n$\\\\sigma_{i}^X \\\\rightarrow b^\\\\dagger_{i} + b_{i}$.\\n\\nQubits are coupled through resonator buses. The provided Hamiltonian has been projected into the zero excitation subspace of the resonator buses leading to an effective qubit-qubit flip-flop interaction. The qubit resonance frequencies in the Hamiltonian are the cavity dressed frequencies and not exactly what is returned by the backend defaults, which also includes the dressing due to the qubit-qubit interactions.\\n\\nQuantities are returned in angular frequencies, with units 2*pi*GHz.\\n\\nWARNING: Currently not all system Hamiltonian information is available to the public, missing values have been replaced with 0.\\n', 'h_latex': '\\\\begin{align} \\\\mathcal{H}/\\\\hbar = & \\\\sum_{i=0}^{0}\\\\left(\\\\frac{\\\\omega_{q,i}}{2}(\\\\mathbb{I}-\\\\sigma_i^{z})+\\\\frac{\\\\Delta_{i}}{2}(O_i^2-O_i)+\\\\Omega_{d,i}D_i(t)\\\\sigma_i^{X}\\\\right) \\\\\\\\ \\\\end{align}', 'h_str': ['_SUM[i,0,0,wq{i}/2*(I{i}-Z{i})]', '_SUM[i,0,0,delta{i}/2*O{i}*O{i}]', '_SUM[i,0,0,-delta{i}/2*O{i}]', '_SUM[i,0,0,omegad{i}*X{i}||D{i}]'], 'osc': {}, 'qub': {'0': 3}, 'vars': {'delta0': -2.189518576306432, 'omegad0': 0.0721186503632053, 'wq0': 31.25537139664009}}\n",
      "    memory: True\n",
      "    max_experiments: 75\n",
      "    multi_meas_enabled: False\n",
      "    online_date: 2019-10-16 04:00:00+00:00\n",
      "    meas_levels: [1, 2]\n",
      "\n",
      "Qubits [Name / Freq / T1 / T2 / U1 err / U2 err / U3 err / Readout err]\n",
      "-----------------------------------------------------------------------\n",
      "    Q0 / 4.97445 GHz / 184.73939 us / 195.43515 us / 0 / 0.00046 / 0.00092 / -0.34847\n",
      "\n",
      "Multi-Qubit Gates [Name / Type / Gate Error]\n",
      "--------------------------------------------\n"
     ]
    }
   ],
   "source": [
    "backend_monitor(provider.get_backend(\"ibmq_armonk\"))"
   ]
  },
  {
   "cell_type": "markdown",
   "metadata": {},
   "source": [
    "### Getting the least Busy Quantum Computer for our Work"
   ]
  },
  {
   "cell_type": "code",
   "execution_count": 9,
   "metadata": {},
   "outputs": [],
   "source": [
    "from qiskit.providers.ibmq import least_busy\n"
   ]
  },
  {
   "cell_type": "code",
   "execution_count": 10,
   "metadata": {},
   "outputs": [
    {
     "name": "stdout",
     "output_type": "stream",
     "text": [
      "We are executing on.... ibmq_valencia\n",
      "It has  1 pending jobs\n",
      "Job Status: job has successfully run\n"
     ]
    }
   ],
   "source": [
    "backend= least_busy(provider.backends(operational=True, simulator=False, status_msg='active',filters=lambda x: x.configuration().n_qubits >1))\n",
    "\n",
    "print(\"We are executing on....\", backend)\n",
    "\n",
    "print(\"It has \",backend.status().pending_jobs,\"pending jobs\")\n",
    "\n",
    "job_exp = execute(circ_bell, backend= backend)\n",
    "\n",
    "job_monitor(job_exp)"
   ]
  },
  {
   "cell_type": "markdown",
   "metadata": {},
   "source": [
    "## Plotting the Results"
   ]
  },
  {
   "cell_type": "code",
   "execution_count": 11,
   "metadata": {},
   "outputs": [
    {
     "data": {
      "image/png": "[encoded data removed]",
      "text/plain": [
       "<Figure size 504x360 with 1 Axes>"
      ]
     },
     "execution_count": 11,
     "metadata": {},
     "output_type": "execute_result"
    }
   ],
   "source": [
    "result_exp = job_exp.result()\n",
    "\n",
    "counts_exp = result_exp.get_counts(circ_bell)\n",
    "\n",
    "plot_histogram([counts_exp,counts], legend=['Device', 'Simulator'])"
   ]
  },
  {
   "cell_type": "code",
   "execution_count": null,
   "metadata": {},
   "outputs": [],
   "source": []
  }
 ],
 "metadata": {
  "kernelspec": {
   "display_name": "Python 3",
   "language": "python",
   "name": "python3"
  },
  "language_info": {
   "codemirror_mode": {
    "name": "ipython",
    "version": 3
   },
   "file_extension": ".py",
   "mimetype": "text/x-python",
   "name": "python",
   "nbconvert_exporter": "python",
   "pygments_lexer": "ipython3",
   "version": "3.8.5"
  }
 },
 "nbformat": 4,
 "nbformat_minor": 4
}
