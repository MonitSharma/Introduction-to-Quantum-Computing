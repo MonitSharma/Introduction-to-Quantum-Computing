{
 "cells": [
  {
   "cell_type": "markdown",
   "metadata": {},
   "source": [
    "# The CHSH Game"
   ]
  },
  {
   "cell_type": "code",
   "execution_count": 1,
   "metadata": {},
   "outputs": [],
   "source": [
    "%matplotlib inline\n",
    "\n",
    "from qiskit import *\n",
    "from qiskit.tools.monitor import *\n",
    "from qiskit.providers.ibmq import least_busy\n",
    "import numpy as np"
   ]
  },
  {
   "cell_type": "markdown",
   "metadata": {},
   "source": [
    "## A game to test whether IBM's  quantum computers are truly quantum"
   ]
  },
  {
   "cell_type": "markdown",
   "metadata": {},
   "source": [
    "### We create a function that simulates the same Alice and Bob game \n",
    "<li> Alice does the measurement on angles a0 and a1\n",
    "    <li> Bob does the same on b0 and b1\n",
    "        <li> x, y are the input bits that are sent by a refree"
   ]
  },
  {
   "cell_type": "code",
   "execution_count": 2,
   "metadata": {},
   "outputs": [],
   "source": [
    "def CHSH_circuit(x,y, a0 = 0, a1 = np.pi/2, b0= np.pi/4, b1 = -np.pi/4):\n",
    "    circ = QuantumCircuit(2,2)\n",
    "    \n",
    "    #making the bell paiir\n",
    "    circ.h(0)\n",
    "    circ.cx(0,1)\n",
    "    \n",
    "    \n",
    "    #x is recieved by Alice \n",
    "    #y is recieved by Bob\n",
    "    #if the recieved bit is 0 alice applies a0\n",
    "    #if the recieved bit is 1 alice applies a1\n",
    "    #if the recieved  bit by bob is 0 bob applies b0\n",
    "    #if the recieved bit by bob is 1 bob applies b1\n",
    "    \n",
    "    if(x==0):  #input bit is 0\n",
    "        circ.ry(a0,0)   #applying the Ry rotation by an angle a0=0(leaving the state as it is)\n",
    "    else:     #input bit is 1\n",
    "        circ.ry(a1,0)  #applying the Ryrotation by an angle of pi/2\n",
    "        \n",
    "    if(y==0): #input bit is 0\n",
    "        circ.ry(b0,1)\n",
    "    else:   #input bit is 1\n",
    "        circ.ry(b1,1)\n",
    "        \n",
    "        \n",
    "    circ.measure(range(2), range(2))\n",
    "    \n",
    "    return circ"
   ]
  },
  {
   "cell_type": "markdown",
   "metadata": {},
   "source": [
    "### Computing the Winning Probability"
   ]
  },
  {
   "cell_type": "code",
   "execution_count": 3,
   "metadata": {},
   "outputs": [],
   "source": [
    "def winning_probability(backend, shots = 8192, a0 = 0, a1 = np.pi/2, b0 =np.pi/4, b1 = -np.pi/4):\n",
    "    total = 0  #here the probability will be saved dividing it with 4*(number of shots))\n",
    "    circuits = [CHSH_circuit(0,0,a0,a1,b0,b1), CHSH_circuit(0,1,a0,a1,b0,b1), CHSH_circuit(1,0,a0,a1,b0,b1), CHSH_circuit(1,1,a0,a1,b0,b1)]\n",
    "    ## applying all the four possibilities of the inputs, |00> , |01>, |10> and |11>\n",
    "    ## and applying their respective angle measurement by alice and bob\n",
    "    \n",
    "    \n",
    "    job = execute(circuits, backend = backend, shots = shots)\n",
    "    \n",
    "    #defining the job function where they execute the all 4 circuits\n",
    "    #entering the number of shots to be 8192\n",
    "    #looping the full circuit to run 4 times for all the four circuits we have\n",
    "    #applying the job and getting the result and storing the counts\n",
    "    #checking the counts\n",
    "    for qc in circuits[0:3]:\n",
    "        counts = job.result().get_counts(qc)\n",
    "        if('00' in counts): #checking whether the result is |00>\n",
    "            total += counts['00'] # if the result is |00> then increase the total count by number of |00>\n",
    "        if('11' in counts): #checking whether the result is |11>\n",
    "            total += counts['11'] # if the result is |11> then increase the total count by the number of |11>\n",
    "    # For the fourth circuit, Alice's and Bob's outputs must be different for them to win\n",
    "    counts = job.result().get_counts(circuits[3])\n",
    "    if('01' in counts):\n",
    "        total += counts['01']\n",
    "    if('10' in counts):\n",
    "        total += counts['10']\n",
    "        \n",
    "    return total/(4*shots)  \n",
    "    "
   ]
  },
  {
   "cell_type": "markdown",
   "metadata": {},
   "source": [
    "## Doing it on the qasm simulator"
   ]
  },
  {
   "cell_type": "code",
   "execution_count": 4,
   "metadata": {},
   "outputs": [
    {
     "name": "stdout",
     "output_type": "stream",
     "text": [
      "0.850372314453125\n"
     ]
    }
   ],
   "source": [
    "# Backend definition \n",
    "\n",
    "backend = Aer.get_backend('qasm_simulator')\n",
    "\n",
    "# Execution\n",
    "\n",
    "print(winning_probability(backend))"
   ]
  },
  {
   "cell_type": "markdown",
   "metadata": {},
   "source": [
    "## Doing it On the Quantum Computer"
   ]
  },
  {
   "cell_type": "code",
   "execution_count": 6,
   "metadata": {},
   "outputs": [
    {
     "name": "stderr",
     "output_type": "stream",
     "text": [
      "ibmqfactory.load_account:WARNING:2020-12-22 16:28:50,366: Credentials are already in use. The existing account in the session will be replaced.\n"
     ]
    },
    {
     "name": "stdout",
     "output_type": "stream",
     "text": [
      "We are executing on... ibmq_vigo\n",
      "0.790435791015625\n"
     ]
    }
   ],
   "source": [
    "# Load the account\n",
    "\n",
    "provider = IBMQ.load_account()\n",
    "\n",
    "# We execute on the least busy device (among the actual quantum computers)\n",
    "\n",
    "backend = least_busy(provider.backends(operational = True, simulator=False, status_msg='active',\n",
    "                                       filters=lambda x: x.configuration().n_qubits > 1)) \n",
    "print(\"We are executing on...\",backend)\n",
    "\n",
    "print(winning_probability(backend))"
   ]
  },
  {
   "cell_type": "code",
   "execution_count": null,
   "metadata": {},
   "outputs": [],
   "source": []
  },
  {
   "cell_type": "code",
   "execution_count": null,
   "metadata": {},
   "outputs": [],
   "source": []
  },
  {
   "cell_type": "code",
   "execution_count": null,
   "metadata": {},
   "outputs": [],
   "source": []
  }
 ],
 "metadata": {
  "kernelspec": {
   "display_name": "Python 3",
   "language": "python",
   "name": "python3"
  },
  "language_info": {
   "codemirror_mode": {
    "name": "ipython",
    "version": 3
   },
   "file_extension": ".py",
   "mimetype": "text/x-python",
   "name": "python",
   "nbconvert_exporter": "python",
   "pygments_lexer": "ipython3",
   "version": "3.8.5"
  }
 },
 "nbformat": 4,
 "nbformat_minor": 4
}
