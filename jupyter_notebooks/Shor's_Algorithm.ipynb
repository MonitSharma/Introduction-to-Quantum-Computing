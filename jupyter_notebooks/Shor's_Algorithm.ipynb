{
  "nbformat": 4,
  "nbformat_minor": 0,
  "metadata": {
    "colab": {
      "name": "Shor's Algorithm.ipynb",
      "provenance": []
    },
    "kernelspec": {
      "name": "python3",
      "display_name": "Python 3"
    }
  },
  "cells": [
    {
      "cell_type": "markdown",
      "metadata": {
        "id": "XS4D5lLSwphD"
      },
      "source": [
        "# Anatomy of A Quantum Machine Learning Algorithm"
      ]
    },
    {
      "cell_type": "markdown",
      "metadata": {
        "id": "2GQCE04SxF0p"
      },
      "source": [
        "## Shor's Algorithm"
      ]
    },
    {
      "cell_type": "markdown",
      "metadata": {
        "id": "XJuX4vY-xbE3"
      },
      "source": [
        "This algorithm reduces the complexity of finding the (prime number) factors of a given number from exponential complexity to sub-exponential complexity.\r\n"
      ]
    },
    {
      "cell_type": "markdown",
      "metadata": {
        "id": "I08Xkqb9xfM7"
      },
      "source": [
        "Modern cryptography builds upon the assumption that it is impossible to factorize a large number. For a classical computer, it is impossible because the complexity of finding it increases exponentially.\r\n",
        "Shor proved a quantum computer can factorize a large number in a reasonable time. A quantum computer able to run Shor’s algorithm would collapse modern cryptography like a house of cards."
      ]
    },
    {
      "cell_type": "code",
      "metadata": {
        "id": "IFPUct0Lwu6M"
      },
      "source": [
        "from qiskit.aqua.algorithms import Shor\r\n",
        "from qiskit.aqua import QuantumInstance\r\n",
        "import numpy as np\r\n",
        "from qiskit import QuantumCircuit, Aer, execute\r\n",
        "from qiskit.tools.visualization import plot_histogram"
      ],
      "execution_count": 3,
      "outputs": []
    },
    {
      "cell_type": "code",
      "metadata": {
        "id": "QakI6N5lyK-H"
      },
      "source": [
        "backend =  Aer.get_backend('qasm_simulator')\r\n",
        "quantum_instance = QuantumInstance(backend, shots =1000)\r\n",
        "my_shor = Shor(N=15, a=2, quantum_instance=quantum_instance)"
      ],
      "execution_count": 7,
      "outputs": []
    },
    {
      "cell_type": "code",
      "metadata": {
        "colab": {
          "base_uri": "https://localhost:8080/"
        },
        "id": "NuAr_TG6yTYV",
        "outputId": "2e1ab76d-8db3-4944-968a-064a51fb533b"
      },
      "source": [
        "Shor.run(my_shor)"
      ],
      "execution_count": 8,
      "outputs": [
        {
          "output_type": "execute_result",
          "data": {
            "text/plain": [
              "{'factors': [[3, 5]], 'total_counts': 62, 'successful_counts': 16}"
            ]
          },
          "metadata": {
            "tags": []
          },
          "execution_count": 8
        }
      ]
    },
    {
      "cell_type": "markdown",
      "metadata": {
        "id": "viZOQFuvy9G9"
      },
      "source": [
        "We convert the factoring problem into a period finding problem, using Modular Exponentiation function.\r\n",
        "\r\n",
        "Basically Dividing our number with the guest number (a), and then computing the remainder"
      ]
    },
    {
      "cell_type": "markdown",
      "metadata": {
        "id": "-9mRfrgVzp4c"
      },
      "source": [
        "For good Guesses of (a) , this function is periodic, as we increase the power of (a)"
      ]
    },
    {
      "cell_type": "markdown",
      "metadata": {
        "id": "44NIgt9tz3jc"
      },
      "source": [
        "The second part the period of the modular exponentiation function,using the Quantum Fourier Transform"
      ]
    },
    {
      "cell_type": "markdown",
      "metadata": {
        "id": "WPGuBP4N0R0c"
      },
      "source": [
        "Use this number to efficiently compute the factors of our original number using the magic formula.\r\n",
        "\r\n",
        "$a$= $guess$ $number$ ,\r\n",
        "$r$ = $period$ $of$ $mod$\r\n",
        " $$p = a^{r/2} -1$$\r\n",
        " $$q = a^{r/2} + 1$$"
      ]
    },
    {
      "cell_type": "code",
      "metadata": {
        "id": "zhA7UbAOy4cw"
      },
      "source": [
        "def c_amod15(a, power):\r\n",
        "  U = QuantumCircuit(4)\r\n",
        "  for iteration in range(power):\r\n",
        "    U.swap(2,3)\r\n",
        "    U.swap(1,2)\r\n",
        "    U.swap(0,1)\r\n",
        "    for q in range(4):\r\n",
        "      U.x(q)\r\n",
        "  U= U.to_gate()\r\n",
        "  U.name = \"%i^%i mod 15\" %(a,power)\r\n",
        "  c_U = U.control()\r\n",
        "  return c_U"
      ],
      "execution_count": 14,
      "outputs": []
    },
    {
      "cell_type": "code",
      "metadata": {
        "id": "KxhUUE3C17kZ"
      },
      "source": [
        "n_count = 8\r\n",
        "a = 7\r\n"
      ],
      "execution_count": 15,
      "outputs": []
    },
    {
      "cell_type": "code",
      "metadata": {
        "id": "OwgyxhmH1-j6"
      },
      "source": [
        "def qft_dagger(n):\r\n",
        "  qc = QuantumCircuit(n)\r\n",
        "  for qubit in range(n//2):\r\n",
        "    qc.swap(qubit, n-qubit-1)\r\n",
        "  for j in range(n):\r\n",
        "    for m in range(j):\r\n",
        "      qc.cu1(-np.pi/float(2**(j-m)), m, j)\r\n",
        "    qc.h(j)\r\n",
        "\r\n",
        "  qc.name=\"QFT dagger\"\r\n",
        "  return qc"
      ],
      "execution_count": 20,
      "outputs": []
    },
    {
      "cell_type": "code",
      "metadata": {
        "colab": {
          "base_uri": "https://localhost:8080/",
          "height": 1000
        },
        "id": "p_OcBUDA2hnW",
        "outputId": "8bdc0369-4037-449d-8bee-fa4341b2e04b"
      },
      "source": [
        "\r\n",
        "qc = QuantumCircuit(n_count+ 4, n_count)\r\n",
        "\r\n",
        "for q in range(n_count):\r\n",
        "  qc.h(q)\r\n",
        "\r\n",
        "qc.x(3+n_count)\r\n",
        "\r\n",
        "\r\n",
        "for q in range(n_count):\r\n",
        "  qc.append(c_amod15(a, 2**q),[q]+ [i + n_count for i in range(4)])\r\n",
        "\r\n",
        "\r\n",
        "qc.append(qft_dagger(n_count), range(n_count))\r\n",
        "\r\n",
        "qc.measure(range(n_count),range(n_count))\r\n",
        "qc.draw('text')"
      ],
      "execution_count": 21,
      "outputs": [
        {
          "output_type": "stream",
          "text": [
            "/usr/local/lib/python3.6/dist-packages/ipykernel_launcher.py:7: DeprecationWarning: The QuantumCircuit.cu1 method is deprecated as of 0.16.0. It will be removed no earlier than 3 months after the release date. You should use the QuantumCircuit.cp method instead, which acts identically.\n",
            "  import sys\n"
          ],
          "name": "stderr"
        },
        {
          "output_type": "execute_result",
          "data": {
            "text/html": [
              "<pre style=\"word-wrap: normal;white-space: pre;background: #fff0;line-height: 1.1;font-family: &quot;Courier New&quot;,Courier,monospace\">      ┌───┐                                                            »\n",
              " q_0: ┤ H ├───────■────────────────────────────────────────────────────»\n",
              "      ├───┤       │                                                    »\n",
              " q_1: ┤ H ├───────┼──────────────■─────────────────────────────────────»\n",
              "      ├───┤       │              │                                     »\n",
              " q_2: ┤ H ├───────┼──────────────┼──────────────■──────────────────────»\n",
              "      ├───┤       │              │              │                      »\n",
              " q_3: ┤ H ├───────┼──────────────┼──────────────┼──────────────■───────»\n",
              "      ├───┤       │              │              │              │       »\n",
              " q_4: ┤ H ├───────┼──────────────┼──────────────┼──────────────┼───────»\n",
              "      ├───┤       │              │              │              │       »\n",
              " q_5: ┤ H ├───────┼──────────────┼──────────────┼──────────────┼───────»\n",
              "      ├───┤       │              │              │              │       »\n",
              " q_6: ┤ H ├───────┼──────────────┼──────────────┼──────────────┼───────»\n",
              "      ├───┤       │              │              │              │       »\n",
              " q_7: ┤ H ├───────┼──────────────┼──────────────┼──────────────┼───────»\n",
              "      └───┘┌──────┴──────┐┌──────┴──────┐┌──────┴──────┐┌──────┴──────┐»\n",
              " q_8: ─────┤0            ├┤0            ├┤0            ├┤0            ├»\n",
              "           │             ││             ││             ││             │»\n",
              " q_9: ─────┤1            ├┤1            ├┤1            ├┤1            ├»\n",
              "           │  7^1 mod 15 ││  7^2 mod 15 ││  7^4 mod 15 ││  7^8 mod 15 │»\n",
              "q_10: ─────┤2            ├┤2            ├┤2            ├┤2            ├»\n",
              "      ┌───┐│             ││             ││             ││             │»\n",
              "q_11: ┤ X ├┤3            ├┤3            ├┤3            ├┤3            ├»\n",
              "      └───┘└─────────────┘└─────────────┘└─────────────┘└─────────────┘»\n",
              " c: 8/═════════════════════════════════════════════════════════════════»\n",
              "                                                                       »\n",
              "«                                                                       »\n",
              "« q_0: ─────────────────────────────────────────────────────────────────»\n",
              "«                                                                       »\n",
              "« q_1: ─────────────────────────────────────────────────────────────────»\n",
              "«                                                                       »\n",
              "« q_2: ─────────────────────────────────────────────────────────────────»\n",
              "«                                                                       »\n",
              "« q_3: ─────────────────────────────────────────────────────────────────»\n",
              "«                                                                       »\n",
              "« q_4: ───────■─────────────────────────────────────────────────────────»\n",
              "«             │                                                         »\n",
              "« q_5: ───────┼───────────────■─────────────────────────────────────────»\n",
              "«             │               │                                         »\n",
              "« q_6: ───────┼───────────────┼───────────────■─────────────────────────»\n",
              "«             │               │               │                         »\n",
              "« q_7: ───────┼───────────────┼───────────────┼────────────────■────────»\n",
              "«      ┌──────┴───────┐┌──────┴───────┐┌──────┴───────┐┌───────┴───────┐»\n",
              "« q_8: ┤0             ├┤0             ├┤0             ├┤0              ├»\n",
              "«      │              ││              ││              ││               │»\n",
              "« q_9: ┤1             ├┤1             ├┤1             ├┤1              ├»\n",
              "«      │  7^16 mod 15 ││  7^32 mod 15 ││  7^64 mod 15 ││  7^128 mod 15 │»\n",
              "«q_10: ┤2             ├┤2             ├┤2             ├┤2              ├»\n",
              "«      │              ││              ││              ││               │»\n",
              "«q_11: ┤3             ├┤3             ├┤3             ├┤3              ├»\n",
              "«      └──────────────┘└──────────────┘└──────────────┘└───────────────┘»\n",
              "« c: 8/═════════════════════════════════════════════════════════════════»\n",
              "«                                                                       »\n",
              "«      ┌─────────────┐┌─┐                     \n",
              "« q_0: ┤0            ├┤M├─────────────────────\n",
              "«      │             │└╥┘┌─┐                  \n",
              "« q_1: ┤1            ├─╫─┤M├──────────────────\n",
              "«      │             │ ║ └╥┘┌─┐               \n",
              "« q_2: ┤2            ├─╫──╫─┤M├───────────────\n",
              "«      │             │ ║  ║ └╥┘┌─┐            \n",
              "« q_3: ┤3            ├─╫──╫──╫─┤M├────────────\n",
              "«      │  QFT dagger │ ║  ║  ║ └╥┘┌─┐         \n",
              "« q_4: ┤4            ├─╫──╫──╫──╫─┤M├─────────\n",
              "«      │             │ ║  ║  ║  ║ └╥┘┌─┐      \n",
              "« q_5: ┤5            ├─╫──╫──╫──╫──╫─┤M├──────\n",
              "«      │             │ ║  ║  ║  ║  ║ └╥┘┌─┐   \n",
              "« q_6: ┤6            ├─╫──╫──╫──╫──╫──╫─┤M├───\n",
              "«      │             │ ║  ║  ║  ║  ║  ║ └╥┘┌─┐\n",
              "« q_7: ┤7            ├─╫──╫──╫──╫──╫──╫──╫─┤M├\n",
              "«      └─────────────┘ ║  ║  ║  ║  ║  ║  ║ └╥┘\n",
              "« q_8: ────────────────╫──╫──╫──╫──╫──╫──╫──╫─\n",
              "«                      ║  ║  ║  ║  ║  ║  ║  ║ \n",
              "« q_9: ────────────────╫──╫──╫──╫──╫──╫──╫──╫─\n",
              "«                      ║  ║  ║  ║  ║  ║  ║  ║ \n",
              "«q_10: ────────────────╫──╫──╫──╫──╫──╫──╫──╫─\n",
              "«                      ║  ║  ║  ║  ║  ║  ║  ║ \n",
              "«q_11: ────────────────╫──╫──╫──╫──╫──╫──╫──╫─\n",
              "«                      ║  ║  ║  ║  ║  ║  ║  ║ \n",
              "« c: 8/════════════════╩══╩══╩══╩══╩══╩══╩══╩═\n",
              "«                      0  1  2  3  4  5  6  7 </pre>"
            ],
            "text/plain": [
              "      ┌───┐                                                            »\n",
              " q_0: ┤ H ├───────■────────────────────────────────────────────────────»\n",
              "      ├───┤       │                                                    »\n",
              " q_1: ┤ H ├───────┼──────────────■─────────────────────────────────────»\n",
              "      ├───┤       │              │                                     »\n",
              " q_2: ┤ H ├───────┼──────────────┼──────────────■──────────────────────»\n",
              "      ├───┤       │              │              │                      »\n",
              " q_3: ┤ H ├───────┼──────────────┼──────────────┼──────────────■───────»\n",
              "      ├───┤       │              │              │              │       »\n",
              " q_4: ┤ H ├───────┼──────────────┼──────────────┼──────────────┼───────»\n",
              "      ├───┤       │              │              │              │       »\n",
              " q_5: ┤ H ├───────┼──────────────┼──────────────┼──────────────┼───────»\n",
              "      ├───┤       │              │              │              │       »\n",
              " q_6: ┤ H ├───────┼──────────────┼──────────────┼──────────────┼───────»\n",
              "      ├───┤       │              │              │              │       »\n",
              " q_7: ┤ H ├───────┼──────────────┼──────────────┼──────────────┼───────»\n",
              "      └───┘┌──────┴──────┐┌──────┴──────┐┌──────┴──────┐┌──────┴──────┐»\n",
              " q_8: ─────┤0            ├┤0            ├┤0            ├┤0            ├»\n",
              "           │             ││             ││             ││             │»\n",
              " q_9: ─────┤1            ├┤1            ├┤1            ├┤1            ├»\n",
              "           │  7^1 mod 15 ││  7^2 mod 15 ││  7^4 mod 15 ││  7^8 mod 15 │»\n",
              "q_10: ─────┤2            ├┤2            ├┤2            ├┤2            ├»\n",
              "      ┌───┐│             ││             ││             ││             │»\n",
              "q_11: ┤ X ├┤3            ├┤3            ├┤3            ├┤3            ├»\n",
              "      └───┘└─────────────┘└─────────────┘└─────────────┘└─────────────┘»\n",
              " c: 8/═════════════════════════════════════════════════════════════════»\n",
              "                                                                       »\n",
              "«                                                                       »\n",
              "« q_0: ─────────────────────────────────────────────────────────────────»\n",
              "«                                                                       »\n",
              "« q_1: ─────────────────────────────────────────────────────────────────»\n",
              "«                                                                       »\n",
              "« q_2: ─────────────────────────────────────────────────────────────────»\n",
              "«                                                                       »\n",
              "« q_3: ─────────────────────────────────────────────────────────────────»\n",
              "«                                                                       »\n",
              "« q_4: ───────■─────────────────────────────────────────────────────────»\n",
              "«             │                                                         »\n",
              "« q_5: ───────┼───────────────■─────────────────────────────────────────»\n",
              "«             │               │                                         »\n",
              "« q_6: ───────┼───────────────┼───────────────■─────────────────────────»\n",
              "«             │               │               │                         »\n",
              "« q_7: ───────┼───────────────┼───────────────┼────────────────■────────»\n",
              "«      ┌──────┴───────┐┌──────┴───────┐┌──────┴───────┐┌───────┴───────┐»\n",
              "« q_8: ┤0             ├┤0             ├┤0             ├┤0              ├»\n",
              "«      │              ││              ││              ││               │»\n",
              "« q_9: ┤1             ├┤1             ├┤1             ├┤1              ├»\n",
              "«      │  7^16 mod 15 ││  7^32 mod 15 ││  7^64 mod 15 ││  7^128 mod 15 │»\n",
              "«q_10: ┤2             ├┤2             ├┤2             ├┤2              ├»\n",
              "«      │              ││              ││              ││               │»\n",
              "«q_11: ┤3             ├┤3             ├┤3             ├┤3              ├»\n",
              "«      └──────────────┘└──────────────┘└──────────────┘└───────────────┘»\n",
              "« c: 8/═════════════════════════════════════════════════════════════════»\n",
              "«                                                                       »\n",
              "«      ┌─────────────┐┌─┐                     \n",
              "« q_0: ┤0            ├┤M├─────────────────────\n",
              "«      │             │└╥┘┌─┐                  \n",
              "« q_1: ┤1            ├─╫─┤M├──────────────────\n",
              "«      │             │ ║ └╥┘┌─┐               \n",
              "« q_2: ┤2            ├─╫──╫─┤M├───────────────\n",
              "«      │             │ ║  ║ └╥┘┌─┐            \n",
              "« q_3: ┤3            ├─╫──╫──╫─┤M├────────────\n",
              "«      │  QFT dagger │ ║  ║  ║ └╥┘┌─┐         \n",
              "« q_4: ┤4            ├─╫──╫──╫──╫─┤M├─────────\n",
              "«      │             │ ║  ║  ║  ║ └╥┘┌─┐      \n",
              "« q_5: ┤5            ├─╫──╫──╫──╫──╫─┤M├──────\n",
              "«      │             │ ║  ║  ║  ║  ║ └╥┘┌─┐   \n",
              "« q_6: ┤6            ├─╫──╫──╫──╫──╫──╫─┤M├───\n",
              "«      │             │ ║  ║  ║  ║  ║  ║ └╥┘┌─┐\n",
              "« q_7: ┤7            ├─╫──╫──╫──╫──╫──╫──╫─┤M├\n",
              "«      └─────────────┘ ║  ║  ║  ║  ║  ║  ║ └╥┘\n",
              "« q_8: ────────────────╫──╫──╫──╫──╫──╫──╫──╫─\n",
              "«                      ║  ║  ║  ║  ║  ║  ║  ║ \n",
              "« q_9: ────────────────╫──╫──╫──╫──╫──╫──╫──╫─\n",
              "«                      ║  ║  ║  ║  ║  ║  ║  ║ \n",
              "«q_10: ────────────────╫──╫──╫──╫──╫──╫──╫──╫─\n",
              "«                      ║  ║  ║  ║  ║  ║  ║  ║ \n",
              "«q_11: ────────────────╫──╫──╫──╫──╫──╫──╫──╫─\n",
              "«                      ║  ║  ║  ║  ║  ║  ║  ║ \n",
              "« c: 8/════════════════╩══╩══╩══╩══╩══╩══╩══╩═\n",
              "«                      0  1  2  3  4  5  6  7 "
            ]
          },
          "metadata": {
            "tags": []
          },
          "execution_count": 21
        }
      ]
    },
    {
      "cell_type": "code",
      "metadata": {
        "colab": {
          "base_uri": "https://localhost:8080/",
          "height": 381
        },
        "id": "w_7z62EZ3Gmm",
        "outputId": "e0ee2ce7-1d15-474f-d1d2-f07c05a6c9e4"
      },
      "source": [
        "backend = Aer.get_backend('qasm_simulator')\r\n",
        "results = execute(qc, backend, shots=2048).result()\r\n",
        "counts = results.get_counts()\r\n",
        "\r\n",
        "plot_histogram(counts)"
      ],
      "execution_count": 23,
      "outputs": [
        {
          "output_type": "execute_result",
          "data": {
            "image/png": "[encoded data removed]",
            "text/plain": [
              "<Figure size 504x360 with 1 Axes>"
            ]
          },
          "metadata": {
            "tags": []
          },
          "execution_count": 23
        }
      ]
    },
    {
      "cell_type": "code",
      "metadata": {
        "id": "c_c0jwXm4NET"
      },
      "source": [
        ""
      ],
      "execution_count": null,
      "outputs": []
    }
  ]
}